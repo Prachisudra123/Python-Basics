{
  "nbformat": 4,
  "nbformat_minor": 0,
  "metadata": {
    "colab": {
      "provenance": []
    },
    "kernelspec": {
      "name": "python3",
      "display_name": "Python 3"
    },
    "language_info": {
      "name": "python"
    }
  },
  "cells": [
    {
      "cell_type": "markdown",
      "source": [
        "# **Theory Question**"
      ],
      "metadata": {
        "id": "JI207IQfD_Fo"
      }
    },
    {
      "cell_type": "markdown",
      "source": [
        "1. What is Python, and why is it popular ?\n",
        "\n",
        "--> Python is a high-level, interpreted programming language known for its readability, simplicity, and versatility. It was created by Guido van Rossum and first released in 1991.\n",
        "\n",
        "--> Why is it popular:\n",
        "1. Easy to Learn and Use.\n",
        "2. Versatile Applications.\n",
        "3. Large Community & Support.\n",
        "4. Cross-Platform.\n",
        "5. Strong Library Ecosystem."
      ],
      "metadata": {
        "id": "KYLW92JqEGHM"
      }
    },
    {
      "cell_type": "code",
      "source": [
        "# Example of simple Python code:\n",
        "print(\"Hello, World!\")\n"
      ],
      "metadata": {
        "colab": {
          "base_uri": "https://localhost:8080/"
        },
        "id": "eWVQCO-5EVPt",
        "outputId": "f9c24ca8-429c-4916-f452-1f26bcfd1c7f"
      },
      "execution_count": 1,
      "outputs": [
        {
          "output_type": "stream",
          "name": "stdout",
          "text": [
            "Hello, World!\n"
          ]
        }
      ]
    },
    {
      "cell_type": "markdown",
      "source": [
        "2. What is an interpreter in Python ?\n",
        "\n",
        "-->  An interpreter in Python is a program that reads and executes Python code line by line (instead of compiling the entire code before running it)."
      ],
      "metadata": {
        "id": "BZ-OApNQFIJz"
      }
    },
    {
      "cell_type": "code",
      "execution_count": 2,
      "metadata": {
        "colab": {
          "base_uri": "https://localhost:8080/"
        },
        "id": "3hhQ4wEOD2US",
        "outputId": "ec63c0a1-8600-464f-ff08-00101abdeb2c"
      },
      "outputs": [
        {
          "output_type": "stream",
          "name": "stdout",
          "text": [
            "Hello, World!\n"
          ]
        }
      ],
      "source": [
        "# Example of interpreter in Python:\n",
        "print(\"Hello, World!\")"
      ]
    },
    {
      "cell_type": "markdown",
      "source": [
        "3. What are pre-defined keywords in Python?\n",
        "-->Pre-defined keywords (or simply keywords) in Python are reserved words that have special meaning to the Python interpreter. You cannot use them as variable names, function names, or identifiers because they are part of the Python syntax."
      ],
      "metadata": {
        "id": "0KmuJrXwFkm4"
      }
    },
    {
      "cell_type": "code",
      "source": [
        "# Example of pre-defined keyword:\n",
        "import keyword\n",
        "print(keyword.kwlist)"
      ],
      "metadata": {
        "colab": {
          "base_uri": "https://localhost:8080/"
        },
        "id": "MQf6NHDeF8OW",
        "outputId": "3d464456-0cd7-4cab-8d13-4e661bd1c18a"
      },
      "execution_count": 3,
      "outputs": [
        {
          "output_type": "stream",
          "name": "stdout",
          "text": [
            "['False', 'None', 'True', 'and', 'as', 'assert', 'async', 'await', 'break', 'class', 'continue', 'def', 'del', 'elif', 'else', 'except', 'finally', 'for', 'from', 'global', 'if', 'import', 'in', 'is', 'lambda', 'nonlocal', 'not', 'or', 'pass', 'raise', 'return', 'try', 'while', 'with', 'yield']\n"
          ]
        }
      ]
    },
    {
      "cell_type": "markdown",
      "source": [
        "4. Can keywords be used as variable names ?\n",
        "--> No, keywords cannot be used as variable names in Python."
      ],
      "metadata": {
        "id": "6_5wjfAEGK0v"
      }
    },
    {
      "cell_type": "markdown",
      "source": [
        "5. What is mutability in Python?\n",
        "--> Mutability in Python refers to whether or not an object’s value can be changed after it is created."
      ],
      "metadata": {
        "id": "GCmoIqlFGYFZ"
      }
    },
    {
      "cell_type": "code",
      "source": [
        "# Example of mutability in Python:\n",
        "my_list = [1, 2, 3]\n",
        "my_list[0] = 4\n",
        "print(my_list)\n",
        "#"
      ],
      "metadata": {
        "colab": {
          "base_uri": "https://localhost:8080/"
        },
        "id": "7_MLgDJNGscW",
        "outputId": "2100abe5-fafa-43d1-eb24-593602f1b805"
      },
      "execution_count": 4,
      "outputs": [
        {
          "output_type": "stream",
          "name": "stdout",
          "text": [
            "[4, 2, 3]\n"
          ]
        }
      ]
    },
    {
      "cell_type": "markdown",
      "source": [
        "6. Why are lists mutable, but tuples are immutable ?\n",
        "--> The difference between lists and tuples is by design, based on use case, performance, and safety.\n",
        "\n",
        "- 1. Lists Are Mutable\n",
        "You can change, add, or remove items.\n",
        "Lists are designed for situations where the data needs to change.\n",
        "\n",
        "- 2.Tuples Are Immutable\n",
        "Once created, the contents of a tuple cannot be changed.\n",
        "Tuples are used when you want to protect data from modification."
      ],
      "metadata": {
        "id": "_PYHSOjYHFlG"
      }
    },
    {
      "cell_type": "code",
      "source": [
        "# Example of list mutability:\n",
        "my_list = [1, 2, 3]\n",
        "my_list[0] = 10      # ✅ Modify\n",
        "my_list.append(4)    # ✅ Add\n",
        "print(my_list)       # Output: [10, 2, 3, 4]\n"
      ],
      "metadata": {
        "colab": {
          "base_uri": "https://localhost:8080/"
        },
        "id": "-t1aITyCI2BR",
        "outputId": "a03687ea-64a7-4767-9a3a-4cd8d1b02c6a"
      },
      "execution_count": 5,
      "outputs": [
        {
          "output_type": "stream",
          "name": "stdout",
          "text": [
            "[10, 2, 3, 4]\n"
          ]
        }
      ]
    },
    {
      "cell_type": "code",
      "source": [
        "# Example of tuple immutable:\n",
        "my_tuple = (1, 2, 3)\n",
        "my_tuple[0] = 10      # ❌ Error: 'tuple' object does not support item assignment\n",
        "my_tuple.append(4)"
      ],
      "metadata": {
        "colab": {
          "base_uri": "https://localhost:8080/",
          "height": 193
        },
        "id": "yDFABY58I_Uc",
        "outputId": "13c1e071-81e3-43ee-ae3e-911a99e1245b"
      },
      "execution_count": 7,
      "outputs": [
        {
          "output_type": "error",
          "ename": "TypeError",
          "evalue": "'tuple' object does not support item assignment",
          "traceback": [
            "\u001b[0;31m---------------------------------------------------------------------------\u001b[0m",
            "\u001b[0;31mTypeError\u001b[0m                                 Traceback (most recent call last)",
            "\u001b[0;32m/tmp/ipython-input-7-252170998.py\u001b[0m in \u001b[0;36m<cell line: 0>\u001b[0;34m()\u001b[0m\n\u001b[1;32m      1\u001b[0m \u001b[0;31m# Example of tuple immutable:\u001b[0m\u001b[0;34m\u001b[0m\u001b[0;34m\u001b[0m\u001b[0m\n\u001b[1;32m      2\u001b[0m \u001b[0mmy_tuple\u001b[0m \u001b[0;34m=\u001b[0m \u001b[0;34m(\u001b[0m\u001b[0;36m1\u001b[0m\u001b[0;34m,\u001b[0m \u001b[0;36m2\u001b[0m\u001b[0;34m,\u001b[0m \u001b[0;36m3\u001b[0m\u001b[0;34m)\u001b[0m\u001b[0;34m\u001b[0m\u001b[0;34m\u001b[0m\u001b[0m\n\u001b[0;32m----> 3\u001b[0;31m \u001b[0mmy_tuple\u001b[0m\u001b[0;34m[\u001b[0m\u001b[0;36m0\u001b[0m\u001b[0;34m]\u001b[0m \u001b[0;34m=\u001b[0m \u001b[0;36m10\u001b[0m      \u001b[0;31m# ❌ Error: 'tuple' object does not support item assignment\u001b[0m\u001b[0;34m\u001b[0m\u001b[0;34m\u001b[0m\u001b[0m\n\u001b[0m\u001b[1;32m      4\u001b[0m \u001b[0mmy_tuple\u001b[0m\u001b[0;34m.\u001b[0m\u001b[0mappend\u001b[0m\u001b[0;34m(\u001b[0m\u001b[0;36m4\u001b[0m\u001b[0;34m)\u001b[0m\u001b[0;34m\u001b[0m\u001b[0;34m\u001b[0m\u001b[0m\n",
            "\u001b[0;31mTypeError\u001b[0m: 'tuple' object does not support item assignment"
          ]
        }
      ]
    },
    {
      "cell_type": "markdown",
      "source": [
        "7. What is the difference between “==” and “is” operators in Python?\n",
        "-->\n",
        "- 1. == → Equality (Value Comparison)\n",
        "Checks if two variables have the same value.\n",
        "\n",
        "Even if they are different objects in memory.\n",
        "\n",
        "- 2. is → Identity (Memory Address Comparison)\n",
        "Checks if two variables point to the same object in memory.\n",
        "\n",
        "True only if both names refer to the exact same object."
      ],
      "metadata": {
        "id": "DHZKnUVCJQOL"
      }
    },
    {
      "cell_type": "code",
      "source": [
        "# Example of == operator:\n",
        "a = [1, 2, 3]\n",
        "b = [1, 2, 3]\n",
        "\n",
        "print(a == b)   # ✅ True — because values are equal\n"
      ],
      "metadata": {
        "colab": {
          "base_uri": "https://localhost:8080/"
        },
        "id": "vcc_D5vmJkPW",
        "outputId": "6b5b77f5-f08e-47dc-9deb-762cdd44b048"
      },
      "execution_count": 8,
      "outputs": [
        {
          "output_type": "stream",
          "name": "stdout",
          "text": [
            "True\n"
          ]
        }
      ]
    },
    {
      "cell_type": "code",
      "source": [
        "# Example of is operator:\n",
        "a = [1, 2, 3]\n",
        "b = [1, 2, 3]\n",
        "c = a\n",
        "\n",
        "print(a is b)   # ❌ False — different objects, even though same value\n",
        "print(a is c)   # ✅ True — same object in memory\n"
      ],
      "metadata": {
        "colab": {
          "base_uri": "https://localhost:8080/"
        },
        "id": "kYTxw97XJw7z",
        "outputId": "da9eb179-2086-4e5a-d4b4-8a4c03ef8c2f"
      },
      "execution_count": 9,
      "outputs": [
        {
          "output_type": "stream",
          "name": "stdout",
          "text": [
            "False\n",
            "True\n"
          ]
        }
      ]
    },
    {
      "cell_type": "markdown",
      "source": [
        "8. What are logical operators in Python ?\n",
        "--> Logical operators in Python are used to combine conditional statements (like if, while, etc.) and return True or False based on logical relationships between expressions.\n",
        "- Types of Logical Operators are:\n",
        "1. Logical and\n",
        "2. Logical or\n",
        "3. Logical not"
      ],
      "metadata": {
        "id": "pfcC8fH5KGMb"
      }
    },
    {
      "cell_type": "code",
      "source": [
        "# Example of Logical Operators(and):\n",
        "x = 5\n",
        "print(x > 2 and x < 10)   # True and True → True\n",
        "\n"
      ],
      "metadata": {
        "colab": {
          "base_uri": "https://localhost:8080/"
        },
        "id": "YkDvoXmHKy80",
        "outputId": "f31541df-d11c-41bb-af8f-30558de1570e"
      },
      "execution_count": 10,
      "outputs": [
        {
          "output_type": "stream",
          "name": "stdout",
          "text": [
            "True\n"
          ]
        }
      ]
    },
    {
      "cell_type": "code",
      "source": [
        "# Example of Logical Operators(or):\n",
        "x = 5\n",
        "print(x < 2 or x < 10)    # False or True → True\n"
      ],
      "metadata": {
        "colab": {
          "base_uri": "https://localhost:8080/"
        },
        "id": "Wx0qFtVlK7kc",
        "outputId": "0acdec68-4ad0-4133-8fe4-c96859df241d"
      },
      "execution_count": 11,
      "outputs": [
        {
          "output_type": "stream",
          "name": "stdout",
          "text": [
            "True\n"
          ]
        }
      ]
    },
    {
      "cell_type": "code",
      "source": [
        "# Example of Logical Operators(not):\n",
        "x = 5\n",
        "print(not(x < 10))        # not True → False\n"
      ],
      "metadata": {
        "colab": {
          "base_uri": "https://localhost:8080/"
        },
        "id": "cgPtajn1LEjP",
        "outputId": "88657037-3ee7-4e97-e877-44e2496a6bb7"
      },
      "execution_count": 12,
      "outputs": [
        {
          "output_type": "stream",
          "name": "stdout",
          "text": [
            "False\n"
          ]
        }
      ]
    },
    {
      "cell_type": "markdown",
      "source": [
        "9. What is type casting in Python?\n",
        "--> Type casting in Python means converting a value from one data type to another—such as from a string to an integer, or from a float to a string.\n",
        "- Types of type casting:\n",
        "1. Implicit Type casting.\n",
        "2. Explicit Type casting."
      ],
      "metadata": {
        "id": "_xYeiLAFLVn5"
      }
    },
    {
      "cell_type": "code",
      "source": [
        "# Example of type casting(Implicit):\n",
        "x = 5       # int\n",
        "y = 2.0     # float\n",
        "result = x + y  # x is automatically converted to float\n",
        "print(result)   # 7.0 (float)\n",
        "\n"
      ],
      "metadata": {
        "colab": {
          "base_uri": "https://localhost:8080/"
        },
        "id": "-FGYLL4VLzLP",
        "outputId": "16fd139c-6853-414d-f941-752d37880dec"
      },
      "execution_count": 13,
      "outputs": [
        {
          "output_type": "stream",
          "name": "stdout",
          "text": [
            "7.0\n"
          ]
        }
      ]
    },
    {
      "cell_type": "code",
      "source": [
        "# Example of Explicit Type casting:\n",
        "# String to integer\n",
        "x = \"10\"\n",
        "num = int(x)      # num becomes 10 (int)\n",
        "\n",
        "# Float to integer\n",
        "y = int(3.9)      # y becomes 3 (decimal part is removed)\n",
        "\n",
        "# Int to string\n",
        "z = str(100)      # z becomes \"100\" (string)"
      ],
      "metadata": {
        "id": "QgJDNrgCM6fv"
      },
      "execution_count": 18,
      "outputs": []
    },
    {
      "cell_type": "markdown",
      "source": [
        "10. What is the difference between implicit and explicit type casting ?\n",
        "-->\n",
        "- 1. implicit type casting:\n",
        "Done automatically by Python.\n",
        "Happens when combining different types that are compatible.\n",
        "No data loss or errors expected.\n",
        "- 2. explicit type casting:\n",
        "Done manually by the programmer using functions like int(), float(), str()\n",
        "Used when you want to force a type conversion.\n",
        "May cause data loss or errors if the types are not compatible."
      ],
      "metadata": {
        "id": "J-h41ya9NlM6"
      }
    },
    {
      "cell_type": "code",
      "source": [
        "# Example of type casting(Implicit):\n",
        "x = 5       # int\n",
        "y = 2.0     # float\n",
        "result = x + y  # x is automatically converted to float\n",
        "print(result)   # 7.0 (float)"
      ],
      "metadata": {
        "colab": {
          "base_uri": "https://localhost:8080/"
        },
        "id": "uA7SLebHOIvt",
        "outputId": "3bab728f-9bf5-436d-a547-b6a59801b8c3"
      },
      "execution_count": 19,
      "outputs": [
        {
          "output_type": "stream",
          "name": "stdout",
          "text": [
            "7.0\n"
          ]
        }
      ]
    },
    {
      "cell_type": "code",
      "source": [
        "# Example of Explicit type casting:\n",
        "# String to integer\n",
        "x = \"10\"\n",
        "num = int(x)      # num becomes 10 (int)\n",
        "\n",
        "# Float to integer\n",
        "y = int(3.9)      # y becomes 3 (decimal part is removed)\n",
        "\n",
        "# Int to string\n",
        "z = str(100)      # z becomes \"100\" (string)"
      ],
      "metadata": {
        "id": "W5qmQCOEOSQo"
      },
      "execution_count": 20,
      "outputs": []
    },
    {
      "cell_type": "markdown",
      "source": [
        "11. What is the purpose of conditional statements in Python?\n",
        "--> Conditional statements in Python are used to make decisions in your program based on certain conditions (True or False)."
      ],
      "metadata": {
        "id": "wl1P79pHOmf6"
      }
    },
    {
      "cell_type": "code",
      "source": [
        "# Example of conditional Statements:\n",
        "age = 18\n",
        "\n",
        "if age >= 18:\n",
        "    print(\"You can vote!\")\n",
        "else:\n",
        "    print(\"You are too young to vote.\")\n"
      ],
      "metadata": {
        "colab": {
          "base_uri": "https://localhost:8080/"
        },
        "id": "OhagbOV9PQ80",
        "outputId": "9f0d662d-0369-4fa1-d05d-8a19f1798bfe"
      },
      "execution_count": 21,
      "outputs": [
        {
          "output_type": "stream",
          "name": "stdout",
          "text": [
            "You can vote!\n"
          ]
        }
      ]
    },
    {
      "cell_type": "markdown",
      "source": [
        "12. How does the elif statement work?\n",
        "--> The elif (short for \"else if\") statement is used when you want to check multiple conditions, one after another.\n",
        "-  Purpose of elif:\n",
        "To handle alternative conditions after an initial if.\n",
        "Only the first True condition is executed.\n",
        "If none match, the else block (if present) runs.\n",
        "\n"
      ],
      "metadata": {
        "id": "Ci0ogZTnPas2"
      }
    },
    {
      "cell_type": "code",
      "source": [
        "# Example of elif:\n",
        "score = 95\n",
        "\n",
        "if score >= 90:\n",
        "    print(\"Grade: A\")\n",
        "elif score >= 80:\n",
        "    print(\"Grade: B\")\n",
        "elif score >= 70:\n",
        "    print(\"Grade: C\")\n",
        "else:\n",
        "    print(\"Grade: F\")\n"
      ],
      "metadata": {
        "colab": {
          "base_uri": "https://localhost:8080/"
        },
        "id": "Kg6xRuwlP_za",
        "outputId": "e86541e5-891d-48cc-db14-388ddeb7f447"
      },
      "execution_count": 23,
      "outputs": [
        {
          "output_type": "stream",
          "name": "stdout",
          "text": [
            "Grade: A\n"
          ]
        }
      ]
    },
    {
      "cell_type": "markdown",
      "source": [
        "13. What is the difference between for and while loops?\n",
        "-->\n",
        "- 1. for loop:\n",
        "for Loop – Used for definite iteration\n",
        "Best when you know ahead of time how many times to loop.\n",
        "Often used to loop over sequences like lists, strings, or ranges.\n",
        "- 2. while Loop – Used for indefinite iteration\n",
        "Best when you don’t know how many times the loop should run.\n",
        "Continues as long as a condition is True."
      ],
      "metadata": {
        "id": "fxZRpxeKQLCq"
      }
    },
    {
      "cell_type": "code",
      "source": [
        "# Example of for loop :\n",
        "for i in range(5):\n",
        "    print(i)\n"
      ],
      "metadata": {
        "colab": {
          "base_uri": "https://localhost:8080/"
        },
        "id": "x5vo5pgTQhnn",
        "outputId": "9076b4fd-6dfd-4c49-e478-1e5a2241e900"
      },
      "execution_count": 24,
      "outputs": [
        {
          "output_type": "stream",
          "name": "stdout",
          "text": [
            "0\n",
            "1\n",
            "2\n",
            "3\n",
            "4\n"
          ]
        }
      ]
    },
    {
      "cell_type": "code",
      "source": [
        "# Example of while loop:\n",
        "i = 0\n",
        "while i < 5:\n",
        "    print(i)\n",
        "    i += 1\n"
      ],
      "metadata": {
        "colab": {
          "base_uri": "https://localhost:8080/"
        },
        "id": "L4g-HL8_Qqxx",
        "outputId": "9baf6822-ca53-41fd-9c52-ba020f4fbdfe"
      },
      "execution_count": 25,
      "outputs": [
        {
          "output_type": "stream",
          "name": "stdout",
          "text": [
            "0\n",
            "1\n",
            "2\n",
            "3\n",
            "4\n"
          ]
        }
      ]
    },
    {
      "cell_type": "markdown",
      "source": [
        "14. Describe a scenario where a while loop is more suitable than a for loop.\n",
        "-> While loop is better:-  while loop is more suitable when you want to repeat an action until a condition is met, and you don’t know in advance how many repetitions will be needed.\n"
      ],
      "metadata": {
        "id": "cGgB37ulRCjy"
      }
    },
    {
      "cell_type": "code",
      "source": [
        "correct_password = \"secret123\"\n",
        "user_input = \"\"\n",
        "\n",
        "while user_input != correct_password:\n",
        "    user_input = input(\"Enter your password: \")\n",
        "\n",
        "print(\"Access granted!\")\n"
      ],
      "metadata": {
        "colab": {
          "base_uri": "https://localhost:8080/"
        },
        "id": "01HXh9d_RlwH",
        "outputId": "dc5d20a5-efb0-4d29-e8d1-1d102c34bbdb"
      },
      "execution_count": 26,
      "outputs": [
        {
          "output_type": "stream",
          "name": "stdout",
          "text": [
            "Enter your password: secret123\n",
            "Access granted!\n"
          ]
        }
      ]
    },
    {
      "cell_type": "markdown",
      "source": [
        "# **Practical Questions**"
      ],
      "metadata": {
        "id": "HL36-8kiRtEY"
      }
    },
    {
      "cell_type": "markdown",
      "source": [
        "1. Write a Python program to print \"Hello, World!?\n",
        "\n"
      ],
      "metadata": {
        "id": "GtrWcuwpRyyb"
      }
    },
    {
      "cell_type": "code",
      "source": [
        "print(\"Hello, World!\")\n"
      ],
      "metadata": {
        "colab": {
          "base_uri": "https://localhost:8080/"
        },
        "id": "YjXUDmG5R5vb",
        "outputId": "7202fade-173d-4787-a555-00941b844aee"
      },
      "execution_count": 27,
      "outputs": [
        {
          "output_type": "stream",
          "name": "stdout",
          "text": [
            "Hello, World!\n"
          ]
        }
      ]
    },
    {
      "cell_type": "code",
      "source": [
        "2. Write a Python program that displays your name and age."
      ],
      "metadata": {
        "id": "UCPFjZUqR_4I"
      },
      "execution_count": null,
      "outputs": []
    },
    {
      "cell_type": "code",
      "source": [
        "name = \"Prachi\"\n",
        "age = 19\n",
        "\n",
        "print(\"My name is\", name)\n",
        "print(\"I am\", age, \"years old\")\n"
      ],
      "metadata": {
        "colab": {
          "base_uri": "https://localhost:8080/"
        },
        "id": "F3Ub-kAhSDwj",
        "outputId": "5c8b88b6-fa75-4ab4-81d2-018993f77312"
      },
      "execution_count": 29,
      "outputs": [
        {
          "output_type": "stream",
          "name": "stdout",
          "text": [
            "My name is Prachi\n",
            "I am 19 years old\n"
          ]
        }
      ]
    },
    {
      "cell_type": "markdown",
      "source": [
        "3. Write code to print all the pre-defined keywords in Python using the keyword library."
      ],
      "metadata": {
        "id": "u88ThcZtSLC-"
      }
    },
    {
      "cell_type": "code",
      "source": [
        "import keyword\n",
        "\n",
        "# Get the list of all keywords\n",
        "keywords_list = keyword.kwlist\n",
        "\n",
        "# Print each keyword\n",
        "print(\"Python Keywords:\")\n",
        "for kw in keywords_list:\n",
        "    print(kw)\n"
      ],
      "metadata": {
        "colab": {
          "base_uri": "https://localhost:8080/"
        },
        "id": "bs2Tx9dXSVTR",
        "outputId": "2fbf901b-b5a1-4bda-97ba-a0b593e37fc0"
      },
      "execution_count": 30,
      "outputs": [
        {
          "output_type": "stream",
          "name": "stdout",
          "text": [
            "Python Keywords:\n",
            "False\n",
            "None\n",
            "True\n",
            "and\n",
            "as\n",
            "assert\n",
            "async\n",
            "await\n",
            "break\n",
            "class\n",
            "continue\n",
            "def\n",
            "del\n",
            "elif\n",
            "else\n",
            "except\n",
            "finally\n",
            "for\n",
            "from\n",
            "global\n",
            "if\n",
            "import\n",
            "in\n",
            "is\n",
            "lambda\n",
            "nonlocal\n",
            "not\n",
            "or\n",
            "pass\n",
            "raise\n",
            "return\n",
            "try\n",
            "while\n",
            "with\n",
            "yield\n"
          ]
        }
      ]
    },
    {
      "cell_type": "markdown",
      "source": [
        "4. Write a program that checks if a given word is a Python keyword."
      ],
      "metadata": {
        "id": "P6yMXMC1SX47"
      }
    },
    {
      "cell_type": "code",
      "source": [
        "import keyword\n",
        "\n",
        "# Ask the user to enter a word\n",
        "word = input(\"Enter a word: \")\n",
        "\n",
        "# Check if it's a Python keyword\n",
        "if keyword.iskeyword(word):\n",
        "    print(f\"'{word}' is a Python keyword.\")\n",
        "else:\n",
        "    print(f\"'{word}' is NOT a Python keyword.\")\n"
      ],
      "metadata": {
        "colab": {
          "base_uri": "https://localhost:8080/"
        },
        "id": "HQ1PfIY5SbKw",
        "outputId": "295d6403-2161-47f1-a55b-fd8ce2f06bd3"
      },
      "execution_count": 32,
      "outputs": [
        {
          "output_type": "stream",
          "name": "stdout",
          "text": [
            "Enter a word: yield\n",
            "'yield' is a Python keyword.\n"
          ]
        }
      ]
    },
    {
      "cell_type": "markdown",
      "source": [
        "5.  Create a list and tuple in Python, and demonstrate how attempting to change an element works differently for each."
      ],
      "metadata": {
        "id": "130FXhosS39v"
      }
    },
    {
      "cell_type": "code",
      "source": [
        "# Create a list and a tuple\n",
        "my_list = [10, 20, 30]\n",
        "my_tuple = (10, 20, 30)\n",
        "\n",
        "# Modify an element in the list (lists are mutable)\n",
        "my_list[1] = 99\n",
        "print(\"Modified list:\", my_list)\n",
        "\n",
        "# Try modifying an element in the tuple (tuples are immutable)\n",
        "try:\n",
        "    my_tuple[1] = 99\n",
        "except TypeError as e:\n",
        "    print(\"Error when modifying tuple:\", e)\n"
      ],
      "metadata": {
        "colab": {
          "base_uri": "https://localhost:8080/"
        },
        "id": "BIYeIPDJS9uY",
        "outputId": "4c98bec0-2651-41b2-f8b0-98af44157b97"
      },
      "execution_count": 33,
      "outputs": [
        {
          "output_type": "stream",
          "name": "stdout",
          "text": [
            "Modified list: [10, 99, 30]\n",
            "Error when modifying tuple: 'tuple' object does not support item assignment\n"
          ]
        }
      ]
    },
    {
      "cell_type": "markdown",
      "source": [
        "6. Write a function to demonstrate the behavior of mutable and immutable arguments."
      ],
      "metadata": {
        "id": "PrX3jBjPTLGX"
      }
    },
    {
      "cell_type": "code",
      "source": [
        "def modify_arguments(num, my_list):\n",
        "    num += 10             # Attempt to modify an immutable object (int)\n",
        "    my_list.append(99)    # Modify a mutable object (list)\n",
        "    print(\"Inside function - num:\", num)\n",
        "    print(\"Inside function - my_list:\", my_list)\n",
        "\n",
        "# Immutable argument (int)\n",
        "x = 5\n",
        "\n",
        "# Mutable argument (list)\n",
        "my_numbers = [1, 2, 3]\n",
        "\n",
        "# Call the function\n",
        "modify_arguments(x, my_numbers)\n",
        "\n",
        "# Print after the function call\n",
        "print(\"Outside function - x:\", x)\n",
        "print(\"Outside function - my_numbers:\", my_numbers)\n"
      ],
      "metadata": {
        "colab": {
          "base_uri": "https://localhost:8080/"
        },
        "id": "8mkImKEcTO0_",
        "outputId": "06821ccd-d0f7-4a14-8084-a9ef9820f1ef"
      },
      "execution_count": 34,
      "outputs": [
        {
          "output_type": "stream",
          "name": "stdout",
          "text": [
            "Inside function - num: 15\n",
            "Inside function - my_list: [1, 2, 3, 99]\n",
            "Outside function - x: 5\n",
            "Outside function - my_numbers: [1, 2, 3, 99]\n"
          ]
        }
      ]
    },
    {
      "cell_type": "markdown",
      "source": [
        "7. Write a program that performs basic arithmetic operations on two user-input numbers."
      ],
      "metadata": {
        "id": "LbzHVCRUTUkj"
      }
    },
    {
      "cell_type": "code",
      "source": [
        "# Get user input and convert to float for decimal support\n",
        "num1 = float(input(\"Enter the first number: \"))\n",
        "num2 = float(input(\"Enter the second number: \"))\n",
        "\n",
        "# Perform arithmetic operations\n",
        "addition = num1 + num2\n",
        "subtraction = num1 - num2\n",
        "multiplication = num1 * num2\n",
        "\n",
        "# Check for division by zero\n",
        "if num2 != 0:\n",
        "    division = num1 / num2\n",
        "else:\n",
        "    division = \"Undefined (cannot divide by zero)\"\n",
        "\n",
        "# Display results\n",
        "print(\"\\nResults:\")\n",
        "print(\"Addition:\", addition)\n",
        "print(\"Subtraction:\", subtraction)\n",
        "print(\"Multiplication:\", multiplication)\n",
        "print(\"Division:\", division)\n"
      ],
      "metadata": {
        "colab": {
          "base_uri": "https://localhost:8080/"
        },
        "id": "WVpYo3osTZmd",
        "outputId": "09e2eaa4-a40f-412e-cfae-a3ce799d2c45"
      },
      "execution_count": 35,
      "outputs": [
        {
          "output_type": "stream",
          "name": "stdout",
          "text": [
            "Enter the first number: 2\n",
            "Enter the second number: 3\n",
            "\n",
            "Results:\n",
            "Addition: 5.0\n",
            "Subtraction: -1.0\n",
            "Multiplication: 6.0\n",
            "Division: 0.6666666666666666\n"
          ]
        }
      ]
    },
    {
      "cell_type": "markdown",
      "source": [
        "8. Write a program to demonstrate the use of logical operators."
      ],
      "metadata": {
        "id": "GNl0VgMOTiMY"
      }
    },
    {
      "cell_type": "code",
      "source": [
        "# Get user input\n",
        "age = int(input(\"Enter your age: \"))\n",
        "has_id = input(\"Do you have a valid ID? (yes/no): \").lower()\n",
        "\n",
        "# Use logical operators\n",
        "\n",
        "# Check if person is an adult AND has ID\n",
        "if age >= 18 and has_id == \"yes\":\n",
        "    print(\"You are allowed to enter.\")\n",
        "else:\n",
        "    print(\"Entry denied.\")\n",
        "\n",
        "# Use 'or' to check if one of the conditions is met\n",
        "if age >= 18 or has_id == \"yes\":\n",
        "    print(\"At least one condition is met.\")\n",
        "\n",
        "# Use 'not' to reverse a condition\n",
        "if not has_id == \"yes\":\n",
        "    print(\"You must bring your ID next time.\")\n"
      ],
      "metadata": {
        "colab": {
          "base_uri": "https://localhost:8080/"
        },
        "id": "5eZQPE9vTnLb",
        "outputId": "0f043bce-d8bf-4055-b3b3-4f1f8c63245f"
      },
      "execution_count": 36,
      "outputs": [
        {
          "output_type": "stream",
          "name": "stdout",
          "text": [
            "Enter your age: 19\n",
            "Do you have a valid ID? (yes/no): yes\n",
            "You are allowed to enter.\n",
            "At least one condition is met.\n"
          ]
        }
      ]
    },
    {
      "cell_type": "markdown",
      "source": [
        "9. Write a Python program to convert user input from string to integer, float, and boolean types."
      ],
      "metadata": {
        "id": "LwiyesSnT03h"
      }
    },
    {
      "cell_type": "code",
      "source": [
        "# Get user input as string\n",
        "user_input = input(\"Enter a value: \")\n",
        "\n",
        "# Convert to integer\n",
        "try:\n",
        "    int_value = int(user_input)\n",
        "    print(\"As integer:\", int_value)\n",
        "except ValueError:\n",
        "    print(\"Cannot convert to integer.\")\n",
        "\n",
        "# Convert to float\n",
        "try:\n",
        "    float_value = float(user_input)\n",
        "    print(\"As float:\", float_value)\n",
        "except ValueError:\n",
        "    print(\"Cannot convert to float.\")\n",
        "\n",
        "# Convert to boolean\n",
        "# Any non-empty string is True, empty string is False\n",
        "bool_value = bool(user_input)\n",
        "print(\"As boolean:\", bool_value)\n"
      ],
      "metadata": {
        "colab": {
          "base_uri": "https://localhost:8080/"
        },
        "id": "Py_Yy66MT48v",
        "outputId": "eec48258-49ec-40a4-badc-21c4e0538cea"
      },
      "execution_count": 37,
      "outputs": [
        {
          "output_type": "stream",
          "name": "stdout",
          "text": [
            "Enter a value: 28.9\n",
            "Cannot convert to integer.\n",
            "As float: 28.9\n",
            "As boolean: True\n"
          ]
        }
      ]
    },
    {
      "cell_type": "markdown",
      "source": [
        "10.  Write code to demonstrate type casting with list elements."
      ],
      "metadata": {
        "id": "tzQg5bvdUA0T"
      }
    },
    {
      "cell_type": "code",
      "source": [
        "# Original list of strings representing numbers\n",
        "str_list = [\"10\", \"20\", \"30\", \"40\"]\n",
        "\n",
        "# Convert all elements to integers\n",
        "int_list = [int(item) for item in str_list]\n",
        "print(\"List as integers:\", int_list)\n",
        "\n",
        "# Convert integers to floats\n",
        "float_list = [float(item) for item in int_list]\n",
        "print(\"List as floats:\", float_list)\n",
        "\n",
        "# Convert strings to booleans\n",
        "# (non-empty strings are True)\n",
        "bool_list = [bool(item) for item in str_list]\n",
        "print(\"List as booleans:\", bool_list)\n"
      ],
      "metadata": {
        "colab": {
          "base_uri": "https://localhost:8080/"
        },
        "id": "Ir0UODjBUIFO",
        "outputId": "6cb5acdc-f3f9-4265-bf1f-664c865dad34"
      },
      "execution_count": 38,
      "outputs": [
        {
          "output_type": "stream",
          "name": "stdout",
          "text": [
            "List as integers: [10, 20, 30, 40]\n",
            "List as floats: [10.0, 20.0, 30.0, 40.0]\n",
            "List as booleans: [True, True, True, True]\n"
          ]
        }
      ]
    },
    {
      "cell_type": "markdown",
      "source": [
        "11. Write a program that checks if a number is positive, negative, or zero."
      ],
      "metadata": {
        "id": "7FbF9uv2UNew"
      }
    },
    {
      "cell_type": "code",
      "source": [
        "# Get input from the user and convert it to a number\n",
        "num = float(input(\"Enter a number: \"))\n",
        "\n",
        "# Check if the number is positive, negative, or zero\n",
        "if num > 0:\n",
        "    print(\"The number is positive.\")\n",
        "elif num < 0:\n",
        "    print(\"The number is negative.\")\n",
        "else:\n",
        "    print(\"The number is zero.\")\n"
      ],
      "metadata": {
        "colab": {
          "base_uri": "https://localhost:8080/"
        },
        "id": "KzjaEu21UkAG",
        "outputId": "262f1e84-6518-4ba9-c0fc-927c6fdd07a7"
      },
      "execution_count": 39,
      "outputs": [
        {
          "output_type": "stream",
          "name": "stdout",
          "text": [
            "Enter a number: -45\n",
            "The number is negative.\n"
          ]
        }
      ]
    },
    {
      "cell_type": "markdown",
      "source": [
        "12. Write a for loop to print numbers from 1 to 10."
      ],
      "metadata": {
        "id": "C4ShdH06UyG4"
      }
    },
    {
      "cell_type": "code",
      "source": [
        "for i in range(1, 11):\n",
        "    print(i)\n"
      ],
      "metadata": {
        "colab": {
          "base_uri": "https://localhost:8080/"
        },
        "id": "DeenWKTsVChq",
        "outputId": "f9b6ee54-3e56-49f8-d812-328b441aff44"
      },
      "execution_count": 40,
      "outputs": [
        {
          "output_type": "stream",
          "name": "stdout",
          "text": [
            "1\n",
            "2\n",
            "3\n",
            "4\n",
            "5\n",
            "6\n",
            "7\n",
            "8\n",
            "9\n",
            "10\n"
          ]
        }
      ]
    },
    {
      "cell_type": "markdown",
      "source": [
        "13. Write a Python program to find the sum of all even numbers between 1 and 50."
      ],
      "metadata": {
        "id": "R7a2ZypmVNem"
      }
    },
    {
      "cell_type": "code",
      "source": [
        "# Initialize sum\n",
        "even_sum = 0\n",
        "\n",
        "# Loop through numbers from 1 to 50\n",
        "for num in range(1, 51):\n",
        "    if num % 2 == 0:\n",
        "        even_sum += num\n",
        "\n",
        "# Print the result\n",
        "print(\"Sum of even numbers from 1 to 50 is:\", even_sum)\n"
      ],
      "metadata": {
        "colab": {
          "base_uri": "https://localhost:8080/"
        },
        "id": "8Qct3UzmVT2P",
        "outputId": "8b697fde-fe04-4a9b-b7e7-68513e021612"
      },
      "execution_count": 41,
      "outputs": [
        {
          "output_type": "stream",
          "name": "stdout",
          "text": [
            "Sum of even numbers from 1 to 50 is: 650\n"
          ]
        }
      ]
    },
    {
      "cell_type": "markdown",
      "source": [
        "14. Write a program to reverse a string using a while loop."
      ],
      "metadata": {
        "id": "K-eYmXtYVcVL"
      }
    },
    {
      "cell_type": "code",
      "source": [
        "# Get input from the user\n",
        "text = input(\"Enter a string: \")\n",
        "\n",
        "# Initialize variables\n",
        "reversed_text = \"\"\n",
        "index = len(text) - 1\n",
        "\n",
        "# Loop to reverse the string\n",
        "while index >= 0:\n",
        "    reversed_text += text[index]\n",
        "    index -= 1\n",
        "\n",
        "# Display the reversed string\n",
        "print(\"Reversed string:\", reversed_text)\n"
      ],
      "metadata": {
        "colab": {
          "base_uri": "https://localhost:8080/"
        },
        "id": "oHhnCiYJVhvw",
        "outputId": "9370c589-31af-4d95-f2b8-2e550241c33b"
      },
      "execution_count": 42,
      "outputs": [
        {
          "output_type": "stream",
          "name": "stdout",
          "text": [
            "Enter a string: prachi\n",
            "Reversed string: ihcarp\n"
          ]
        }
      ]
    },
    {
      "cell_type": "markdown",
      "source": [
        "15. Write a Python program to calculate the factorial of a number provided by the user using a while loop."
      ],
      "metadata": {
        "id": "HA_2hCfBVvWP"
      }
    },
    {
      "cell_type": "code",
      "source": [
        "# Get input from the user\n",
        "num = int(input(\"Enter a non-negative integer: \"))\n",
        "\n",
        "# Initialize factorial result\n",
        "factorial = 1\n",
        "i = 1\n",
        "\n",
        "# Check for negative input\n",
        "if num < 0:\n",
        "    print(\"Factorial is not defined for negative numbers.\")\n",
        "else:\n",
        "    while i <= num:\n",
        "        factorial *= i\n",
        "        i += 1\n",
        "    print(f\"Factorial of {num} is: {factorial}\")\n"
      ],
      "metadata": {
        "colab": {
          "base_uri": "https://localhost:8080/"
        },
        "id": "u19gGx9gVwsP",
        "outputId": "ecd3799b-c122-4e30-9341-ff08287b0903"
      },
      "execution_count": 45,
      "outputs": [
        {
          "output_type": "stream",
          "name": "stdout",
          "text": [
            "Enter a non-negative integer: 10\n",
            "Factorial of 10 is: 3628800\n"
          ]
        }
      ]
    }
  ]
}